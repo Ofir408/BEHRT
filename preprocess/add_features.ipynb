{
 "cells": [
  {
   "cell_type": "markdown",
   "id": "7d523b98-70d1-482f-a25e-19e88f060f3d",
   "metadata": {},
   "source": [
    "## Setup"
   ]
  },
  {
   "cell_type": "code",
   "execution_count": 2,
   "id": "b542df0a-4e4f-455d-9c97-81d190be8998",
   "metadata": {},
   "outputs": [],
   "source": [
    "import pandas as pd\n",
    "import numpy as np"
   ]
  },
  {
   "cell_type": "code",
   "execution_count": 3,
   "id": "146d8050-2ab6-492b-b19c-2bd73d3e5f00",
   "metadata": {},
   "outputs": [],
   "source": [
    "DATA_FILE_PATH = '/home/benshoho/projects/BEHRT/my_data/test.csv'"
   ]
  },
  {
   "cell_type": "code",
   "execution_count": 4,
   "id": "03c048bb-3ac1-49e9-bae4-3981efc2c2fa",
   "metadata": {},
   "outputs": [
    {
     "name": "stderr",
     "output_type": "stream",
     "text": [
      "/home/benshoho/.conda/envs/my_env/lib/python3.7/site-packages/IPython/core/interactiveshell.py:3553: FutureWarning: In a future version of pandas all arguments of read_csv except for the argument 'filepath_or_buffer' will be keyword-only\n",
      "  exec(code_obj, self.user_global_ns, self.user_ns)\n"
     ]
    }
   ],
   "source": [
    "df = pd.read_csv(DATA_FILE_PATH, '\\t')"
   ]
  },
  {
   "cell_type": "code",
   "execution_count": 5,
   "id": "4d0fbf00-3d59-438c-85dc-606ad0120ba7",
   "metadata": {},
   "outputs": [
    {
     "data": {
      "text/html": [
       "<div>\n",
       "<style scoped>\n",
       "    .dataframe tbody tr th:only-of-type {\n",
       "        vertical-align: middle;\n",
       "    }\n",
       "\n",
       "    .dataframe tbody tr th {\n",
       "        vertical-align: top;\n",
       "    }\n",
       "\n",
       "    .dataframe thead th {\n",
       "        text-align: right;\n",
       "    }\n",
       "</style>\n",
       "<table border=\"1\" class=\"dataframe\">\n",
       "  <thead>\n",
       "    <tr style=\"text-align: right;\">\n",
       "      <th></th>\n",
       "      <th>Unnamed: 0</th>\n",
       "      <th>code</th>\n",
       "      <th>age</th>\n",
       "      <th>year</th>\n",
       "      <th>static</th>\n",
       "      <th>explabel</th>\n",
       "      <th>label</th>\n",
       "    </tr>\n",
       "  </thead>\n",
       "  <tbody>\n",
       "    <tr>\n",
       "      <th>0</th>\n",
       "      <td>88412</td>\n",
       "      <td>['disease1', 'SEP', 'medication1', 'medication...</td>\n",
       "      <td>['600', '600', '650', '650', '650', '650', '65...</td>\n",
       "      <td>['1994', '1994', '1998', '1998', '1998', '1998...</td>\n",
       "      <td>[1.0, 0.0, 1.0, 1.0, 1.0, 0.0, 1.0, 1.0, 0.0, ...</td>\n",
       "      <td>0</td>\n",
       "      <td>0</td>\n",
       "    </tr>\n",
       "    <tr>\n",
       "      <th>1</th>\n",
       "      <td>282358</td>\n",
       "      <td>['disease1', 'SEP', 'medication1', 'medication...</td>\n",
       "      <td>['600', '600', '650', '650', '650', '650', '65...</td>\n",
       "      <td>['1994', '1994', '1998', '1998', '1998', '1998...</td>\n",
       "      <td>[1.0, 0.0, 1.0, 1.0, 1.0, 0.0, 1.0, 1.0, 0.0, ...</td>\n",
       "      <td>0</td>\n",
       "      <td>0</td>\n",
       "    </tr>\n",
       "    <tr>\n",
       "      <th>2</th>\n",
       "      <td>76509</td>\n",
       "      <td>['disease1', 'SEP', 'medication1', 'medication...</td>\n",
       "      <td>['600', '600', '650', '650', '650', '650', '65...</td>\n",
       "      <td>['1994', '1994', '1998', '1998', '1998', '1998...</td>\n",
       "      <td>[1.0, 0.0, 1.0, 1.0, 1.0, 0.0, 1.0, 1.0, 0.0, ...</td>\n",
       "      <td>0</td>\n",
       "      <td>0</td>\n",
       "    </tr>\n",
       "    <tr>\n",
       "      <th>3</th>\n",
       "      <td>172790</td>\n",
       "      <td>['disease1', 'SEP', 'medication1', 'medication...</td>\n",
       "      <td>['600', '600', '650', '650', '650', '650', '65...</td>\n",
       "      <td>['1994', '1994', '1998', '1998', '1998', '1998...</td>\n",
       "      <td>[1.0, 0.0, 1.0, 1.0, 1.0, 0.0, 1.0, 1.0, 0.0, ...</td>\n",
       "      <td>0</td>\n",
       "      <td>0</td>\n",
       "    </tr>\n",
       "    <tr>\n",
       "      <th>4</th>\n",
       "      <td>450220</td>\n",
       "      <td>['disease1', 'SEP', 'medication1', 'medication...</td>\n",
       "      <td>['600', '600', '650', '650', '650', '650', '65...</td>\n",
       "      <td>['1994', '1994', '1998', '1998', '1998', '1998...</td>\n",
       "      <td>[1.0, 0.0, 1.0, 1.0, 1.0, 0.0, 1.0, 1.0, 0.0, ...</td>\n",
       "      <td>0</td>\n",
       "      <td>0</td>\n",
       "    </tr>\n",
       "  </tbody>\n",
       "</table>\n",
       "</div>"
      ],
      "text/plain": [
       "   Unnamed: 0                                               code  \\\n",
       "0       88412  ['disease1', 'SEP', 'medication1', 'medication...   \n",
       "1      282358  ['disease1', 'SEP', 'medication1', 'medication...   \n",
       "2       76509  ['disease1', 'SEP', 'medication1', 'medication...   \n",
       "3      172790  ['disease1', 'SEP', 'medication1', 'medication...   \n",
       "4      450220  ['disease1', 'SEP', 'medication1', 'medication...   \n",
       "\n",
       "                                                 age  \\\n",
       "0  ['600', '600', '650', '650', '650', '650', '65...   \n",
       "1  ['600', '600', '650', '650', '650', '650', '65...   \n",
       "2  ['600', '600', '650', '650', '650', '650', '65...   \n",
       "3  ['600', '600', '650', '650', '650', '650', '65...   \n",
       "4  ['600', '600', '650', '650', '650', '650', '65...   \n",
       "\n",
       "                                                year  \\\n",
       "0  ['1994', '1994', '1998', '1998', '1998', '1998...   \n",
       "1  ['1994', '1994', '1998', '1998', '1998', '1998...   \n",
       "2  ['1994', '1994', '1998', '1998', '1998', '1998...   \n",
       "3  ['1994', '1994', '1998', '1998', '1998', '1998...   \n",
       "4  ['1994', '1994', '1998', '1998', '1998', '1998...   \n",
       "\n",
       "                                              static  explabel  label  \n",
       "0  [1.0, 0.0, 1.0, 1.0, 1.0, 0.0, 1.0, 1.0, 0.0, ...         0      0  \n",
       "1  [1.0, 0.0, 1.0, 1.0, 1.0, 0.0, 1.0, 1.0, 0.0, ...         0      0  \n",
       "2  [1.0, 0.0, 1.0, 1.0, 1.0, 0.0, 1.0, 1.0, 0.0, ...         0      0  \n",
       "3  [1.0, 0.0, 1.0, 1.0, 1.0, 0.0, 1.0, 1.0, 0.0, ...         0      0  \n",
       "4  [1.0, 0.0, 1.0, 1.0, 1.0, 0.0, 1.0, 1.0, 0.0, ...         0      0  "
      ]
     },
     "execution_count": 5,
     "metadata": {},
     "output_type": "execute_result"
    }
   ],
   "source": [
    "df.head()"
   ]
  },
  {
   "cell_type": "code",
   "execution_count": 6,
   "id": "8dc224cf-711c-46b1-9537-9ce680284fd2",
   "metadata": {},
   "outputs": [],
   "source": [
    "import random\n",
    "from typing import List, Any\n",
    "\n",
    "def generate_feature(possible_values: List[Any]):\n",
    "    return random.choice(possible_values)\n",
    "    "
   ]
  },
  {
   "cell_type": "markdown",
   "id": "e1f391b1-28ec-4e00-ab8d-980b865722cc",
   "metadata": {},
   "source": [
    "## Add Features"
   ]
  },
  {
   "cell_type": "code",
   "execution_count": 7,
   "id": "dde4bfde-c1f0-4722-994b-bcde320671cd",
   "metadata": {},
   "outputs": [],
   "source": [
    "def df_with_sex_feature():\n",
    "    df['sex'] = df['code'].apply(lambda _: generate_feature(possible_values=['sex_men', 'sex_woman']))\n",
    "    return df"
   ]
  },
  {
   "cell_type": "code",
   "execution_count": 8,
   "id": "f72070ba-6f5c-432e-8b41-ebe59b095073",
   "metadata": {},
   "outputs": [],
   "source": [
    "df = df_with_sex_feature()"
   ]
  },
  {
   "cell_type": "code",
   "execution_count": 9,
   "id": "5c9bca64-699d-4707-b3aa-d2d8bf5c5984",
   "metadata": {},
   "outputs": [
    {
     "data": {
      "text/html": [
       "<div>\n",
       "<style scoped>\n",
       "    .dataframe tbody tr th:only-of-type {\n",
       "        vertical-align: middle;\n",
       "    }\n",
       "\n",
       "    .dataframe tbody tr th {\n",
       "        vertical-align: top;\n",
       "    }\n",
       "\n",
       "    .dataframe thead th {\n",
       "        text-align: right;\n",
       "    }\n",
       "</style>\n",
       "<table border=\"1\" class=\"dataframe\">\n",
       "  <thead>\n",
       "    <tr style=\"text-align: right;\">\n",
       "      <th></th>\n",
       "      <th>Unnamed: 0</th>\n",
       "      <th>code</th>\n",
       "      <th>age</th>\n",
       "      <th>year</th>\n",
       "      <th>static</th>\n",
       "      <th>explabel</th>\n",
       "      <th>label</th>\n",
       "      <th>sex</th>\n",
       "    </tr>\n",
       "  </thead>\n",
       "  <tbody>\n",
       "    <tr>\n",
       "      <th>0</th>\n",
       "      <td>88412</td>\n",
       "      <td>['disease1', 'SEP', 'medication1', 'medication...</td>\n",
       "      <td>['600', '600', '650', '650', '650', '650', '65...</td>\n",
       "      <td>['1994', '1994', '1998', '1998', '1998', '1998...</td>\n",
       "      <td>[1.0, 0.0, 1.0, 1.0, 1.0, 0.0, 1.0, 1.0, 0.0, ...</td>\n",
       "      <td>0</td>\n",
       "      <td>0</td>\n",
       "      <td>sex_woman</td>\n",
       "    </tr>\n",
       "    <tr>\n",
       "      <th>1</th>\n",
       "      <td>282358</td>\n",
       "      <td>['disease1', 'SEP', 'medication1', 'medication...</td>\n",
       "      <td>['600', '600', '650', '650', '650', '650', '65...</td>\n",
       "      <td>['1994', '1994', '1998', '1998', '1998', '1998...</td>\n",
       "      <td>[1.0, 0.0, 1.0, 1.0, 1.0, 0.0, 1.0, 1.0, 0.0, ...</td>\n",
       "      <td>0</td>\n",
       "      <td>0</td>\n",
       "      <td>sex_woman</td>\n",
       "    </tr>\n",
       "    <tr>\n",
       "      <th>2</th>\n",
       "      <td>76509</td>\n",
       "      <td>['disease1', 'SEP', 'medication1', 'medication...</td>\n",
       "      <td>['600', '600', '650', '650', '650', '650', '65...</td>\n",
       "      <td>['1994', '1994', '1998', '1998', '1998', '1998...</td>\n",
       "      <td>[1.0, 0.0, 1.0, 1.0, 1.0, 0.0, 1.0, 1.0, 0.0, ...</td>\n",
       "      <td>0</td>\n",
       "      <td>0</td>\n",
       "      <td>sex_men</td>\n",
       "    </tr>\n",
       "    <tr>\n",
       "      <th>3</th>\n",
       "      <td>172790</td>\n",
       "      <td>['disease1', 'SEP', 'medication1', 'medication...</td>\n",
       "      <td>['600', '600', '650', '650', '650', '650', '65...</td>\n",
       "      <td>['1994', '1994', '1998', '1998', '1998', '1998...</td>\n",
       "      <td>[1.0, 0.0, 1.0, 1.0, 1.0, 0.0, 1.0, 1.0, 0.0, ...</td>\n",
       "      <td>0</td>\n",
       "      <td>0</td>\n",
       "      <td>sex_men</td>\n",
       "    </tr>\n",
       "    <tr>\n",
       "      <th>4</th>\n",
       "      <td>450220</td>\n",
       "      <td>['disease1', 'SEP', 'medication1', 'medication...</td>\n",
       "      <td>['600', '600', '650', '650', '650', '650', '65...</td>\n",
       "      <td>['1994', '1994', '1998', '1998', '1998', '1998...</td>\n",
       "      <td>[1.0, 0.0, 1.0, 1.0, 1.0, 0.0, 1.0, 1.0, 0.0, ...</td>\n",
       "      <td>0</td>\n",
       "      <td>0</td>\n",
       "      <td>sex_men</td>\n",
       "    </tr>\n",
       "  </tbody>\n",
       "</table>\n",
       "</div>"
      ],
      "text/plain": [
       "   Unnamed: 0                                               code  \\\n",
       "0       88412  ['disease1', 'SEP', 'medication1', 'medication...   \n",
       "1      282358  ['disease1', 'SEP', 'medication1', 'medication...   \n",
       "2       76509  ['disease1', 'SEP', 'medication1', 'medication...   \n",
       "3      172790  ['disease1', 'SEP', 'medication1', 'medication...   \n",
       "4      450220  ['disease1', 'SEP', 'medication1', 'medication...   \n",
       "\n",
       "                                                 age  \\\n",
       "0  ['600', '600', '650', '650', '650', '650', '65...   \n",
       "1  ['600', '600', '650', '650', '650', '650', '65...   \n",
       "2  ['600', '600', '650', '650', '650', '650', '65...   \n",
       "3  ['600', '600', '650', '650', '650', '650', '65...   \n",
       "4  ['600', '600', '650', '650', '650', '650', '65...   \n",
       "\n",
       "                                                year  \\\n",
       "0  ['1994', '1994', '1998', '1998', '1998', '1998...   \n",
       "1  ['1994', '1994', '1998', '1998', '1998', '1998...   \n",
       "2  ['1994', '1994', '1998', '1998', '1998', '1998...   \n",
       "3  ['1994', '1994', '1998', '1998', '1998', '1998...   \n",
       "4  ['1994', '1994', '1998', '1998', '1998', '1998...   \n",
       "\n",
       "                                              static  explabel  label  \\\n",
       "0  [1.0, 0.0, 1.0, 1.0, 1.0, 0.0, 1.0, 1.0, 0.0, ...         0      0   \n",
       "1  [1.0, 0.0, 1.0, 1.0, 1.0, 0.0, 1.0, 1.0, 0.0, ...         0      0   \n",
       "2  [1.0, 0.0, 1.0, 1.0, 1.0, 0.0, 1.0, 1.0, 0.0, ...         0      0   \n",
       "3  [1.0, 0.0, 1.0, 1.0, 1.0, 0.0, 1.0, 1.0, 0.0, ...         0      0   \n",
       "4  [1.0, 0.0, 1.0, 1.0, 1.0, 0.0, 1.0, 1.0, 0.0, ...         0      0   \n",
       "\n",
       "         sex  \n",
       "0  sex_woman  \n",
       "1  sex_woman  \n",
       "2    sex_men  \n",
       "3    sex_men  \n",
       "4    sex_men  "
      ]
     },
     "execution_count": 9,
     "metadata": {},
     "output_type": "execute_result"
    }
   ],
   "source": [
    "df.head()"
   ]
  },
  {
   "cell_type": "markdown",
   "id": "5c934297-6b53-40a9-bfab-3f5359d32ffd",
   "metadata": {},
   "source": [
    "## Save the dataframe"
   ]
  },
  {
   "cell_type": "code",
   "execution_count": 10,
   "id": "5e0f79d9-8f44-4a80-a12b-ebc37a56e320",
   "metadata": {},
   "outputs": [],
   "source": [
    "df.to_csv(DATA_FILE_PATH)"
   ]
  }
 ],
 "metadata": {
  "kernelspec": {
   "display_name": "Python 3",
   "language": "python",
   "name": "python3"
  },
  "language_info": {
   "codemirror_mode": {
    "name": "ipython",
    "version": 3
   },
   "file_extension": ".py",
   "mimetype": "text/x-python",
   "name": "python",
   "nbconvert_exporter": "python",
   "pygments_lexer": "ipython3",
   "version": "3.7.12"
  }
 },
 "nbformat": 4,
 "nbformat_minor": 5
}
